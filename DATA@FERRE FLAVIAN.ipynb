{
 "cells": [
  {
   "cell_type": "markdown",
   "id": "566eb389",
   "metadata": {},
   "source": [
    "# DATA@FERRE FLAVIAN\n",
    "\n",
    "### Travail sur les prix\n",
    "\n",
    "Commençons par importer nos différentes données :"
   ]
  },
  {
   "cell_type": "code",
   "execution_count": 1,
   "id": "433d8cd1",
   "metadata": {},
   "outputs": [],
   "source": [
    "import pandas as pd\n",
    "import math\n",
    "\n",
    "stations = pd.read_csv(\"stations.csv\")\n",
    "providers = pd.read_csv(\"providers.csv\")\n",
    "cities = pd.read_csv(\"cities.csv\")\n",
    "ticket = pd.read_csv(\"ticket_data.csv\")"
   ]
  },
  {
   "cell_type": "markdown",
   "id": "9df0b1b3",
   "metadata": {},
   "source": [
    "Nous allons vérifier qu'il n'y a pas de données de prix vides (NaN) auquel cas on supprimera les lignes correspondantes :"
   ]
  },
  {
   "cell_type": "code",
   "execution_count": 2,
   "id": "8536f08b",
   "metadata": {},
   "outputs": [
    {
     "data": {
      "text/html": [
       "<div>\n",
       "<style scoped>\n",
       "    .dataframe tbody tr th:only-of-type {\n",
       "        vertical-align: middle;\n",
       "    }\n",
       "\n",
       "    .dataframe tbody tr th {\n",
       "        vertical-align: top;\n",
       "    }\n",
       "\n",
       "    .dataframe thead th {\n",
       "        text-align: right;\n",
       "    }\n",
       "</style>\n",
       "<table border=\"1\" class=\"dataframe\">\n",
       "  <thead>\n",
       "    <tr style=\"text-align: right;\">\n",
       "      <th></th>\n",
       "      <th>id</th>\n",
       "      <th>company</th>\n",
       "      <th>o_station</th>\n",
       "      <th>d_station</th>\n",
       "      <th>departure_ts</th>\n",
       "      <th>arrival_ts</th>\n",
       "      <th>price_in_cents</th>\n",
       "      <th>search_ts</th>\n",
       "      <th>middle_stations</th>\n",
       "      <th>other_companies</th>\n",
       "      <th>o_city</th>\n",
       "      <th>d_city</th>\n",
       "    </tr>\n",
       "  </thead>\n",
       "  <tbody>\n",
       "  </tbody>\n",
       "</table>\n",
       "</div>"
      ],
      "text/plain": [
       "Empty DataFrame\n",
       "Columns: [id, company, o_station, d_station, departure_ts, arrival_ts, price_in_cents, search_ts, middle_stations, other_companies, o_city, d_city]\n",
       "Index: []"
      ]
     },
     "execution_count": 2,
     "metadata": {},
     "output_type": "execute_result"
    }
   ],
   "source": [
    "ticket[pd.isnull(ticket['price_in_cents'])]"
   ]
  },
  {
   "cell_type": "markdown",
   "id": "3cea7340",
   "metadata": {},
   "source": [
    "Aucun prix ne manque, nous pouvons donc récupérer les données de prix minimum, moyen et maximum dans le DataFrame ticket :"
   ]
  },
  {
   "cell_type": "code",
   "execution_count": 3,
   "id": "ebec4a7e",
   "metadata": {},
   "outputs": [
    {
     "data": {
      "text/plain": [
       "count    74168.000000\n",
       "mean      4382.711061\n",
       "std       3739.325367\n",
       "min        300.000000\n",
       "25%       1900.000000\n",
       "50%       3350.000000\n",
       "75%       5250.000000\n",
       "max      38550.000000\n",
       "Name: price_in_cents, dtype: float64"
      ]
     },
     "execution_count": 3,
     "metadata": {},
     "output_type": "execute_result"
    }
   ],
   "source": [
    "ticket['price_in_cents'].describe()"
   ]
  },
  {
   "cell_type": "markdown",
   "id": "5dbf8e8c",
   "metadata": {},
   "source": [
    "On observe alors que :\n",
    "| Prix minimum | Prix moyen | Prix maximal |\n",
    "| --- | --- | --- |\n",
    "| 3 € | 43,82 € | 385,5 € |\n",
    "\n",
    "### Travail sur les durées\n",
    "\n",
    "Nous allons vérifier qu'il n'y a pas de données concernant le départ et l'arrivée vides (NaN) auquel cas on supprimera les lignes correspondantes :"
   ]
  },
  {
   "cell_type": "code",
   "execution_count": 4,
   "id": "f0a73ff0",
   "metadata": {},
   "outputs": [
    {
     "data": {
      "text/html": [
       "<div>\n",
       "<style scoped>\n",
       "    .dataframe tbody tr th:only-of-type {\n",
       "        vertical-align: middle;\n",
       "    }\n",
       "\n",
       "    .dataframe tbody tr th {\n",
       "        vertical-align: top;\n",
       "    }\n",
       "\n",
       "    .dataframe thead th {\n",
       "        text-align: right;\n",
       "    }\n",
       "</style>\n",
       "<table border=\"1\" class=\"dataframe\">\n",
       "  <thead>\n",
       "    <tr style=\"text-align: right;\">\n",
       "      <th></th>\n",
       "      <th>id</th>\n",
       "      <th>company</th>\n",
       "      <th>o_station</th>\n",
       "      <th>d_station</th>\n",
       "      <th>departure_ts</th>\n",
       "      <th>arrival_ts</th>\n",
       "      <th>price_in_cents</th>\n",
       "      <th>search_ts</th>\n",
       "      <th>middle_stations</th>\n",
       "      <th>other_companies</th>\n",
       "      <th>o_city</th>\n",
       "      <th>d_city</th>\n",
       "    </tr>\n",
       "  </thead>\n",
       "  <tbody>\n",
       "  </tbody>\n",
       "</table>\n",
       "</div>"
      ],
      "text/plain": [
       "Empty DataFrame\n",
       "Columns: [id, company, o_station, d_station, departure_ts, arrival_ts, price_in_cents, search_ts, middle_stations, other_companies, o_city, d_city]\n",
       "Index: []"
      ]
     },
     "execution_count": 4,
     "metadata": {},
     "output_type": "execute_result"
    }
   ],
   "source": [
    "ticket[pd.isnull(ticket['departure_ts']) | pd.isnull(ticket['arrival_ts'])]"
   ]
  },
  {
   "cell_type": "markdown",
   "id": "27c382e8",
   "metadata": {},
   "source": [
    "Maintenant que cette vérification est faite, recherchons des informations sur la durée des trajets. Pour cela, il nous faut créer une colonne supplémentaire correspondant à la durée des trajets dans le DataFrame 'ticket' :"
   ]
  },
  {
   "cell_type": "code",
   "execution_count": 5,
   "id": "100a260f",
   "metadata": {},
   "outputs": [],
   "source": [
    "import datetime\n",
    "\n",
    "# Conversion en timestamp puis soustraction\n",
    "ticket['duration'] = ticket.apply(lambda x : datetime.datetime.timestamp(pd.to_datetime(x[\"arrival_ts\"])) - datetime.datetime.timestamp(pd.to_datetime(x[\"departure_ts\"])), axis = 1)"
   ]
  },
  {
   "cell_type": "markdown",
   "id": "bb79df53",
   "metadata": {},
   "source": [
    "On vérifie bien que la durée a été ajoutée au DataFrame ticket :"
   ]
  },
  {
   "cell_type": "code",
   "execution_count": 6,
   "id": "1816263e",
   "metadata": {},
   "outputs": [
    {
     "data": {
      "text/html": [
       "<div>\n",
       "<style scoped>\n",
       "    .dataframe tbody tr th:only-of-type {\n",
       "        vertical-align: middle;\n",
       "    }\n",
       "\n",
       "    .dataframe tbody tr th {\n",
       "        vertical-align: top;\n",
       "    }\n",
       "\n",
       "    .dataframe thead th {\n",
       "        text-align: right;\n",
       "    }\n",
       "</style>\n",
       "<table border=\"1\" class=\"dataframe\">\n",
       "  <thead>\n",
       "    <tr style=\"text-align: right;\">\n",
       "      <th></th>\n",
       "      <th>id</th>\n",
       "      <th>company</th>\n",
       "      <th>o_station</th>\n",
       "      <th>d_station</th>\n",
       "      <th>departure_ts</th>\n",
       "      <th>arrival_ts</th>\n",
       "      <th>price_in_cents</th>\n",
       "      <th>search_ts</th>\n",
       "      <th>middle_stations</th>\n",
       "      <th>other_companies</th>\n",
       "      <th>o_city</th>\n",
       "      <th>d_city</th>\n",
       "      <th>duration</th>\n",
       "    </tr>\n",
       "  </thead>\n",
       "  <tbody>\n",
       "    <tr>\n",
       "      <th>0</th>\n",
       "      <td>6795025</td>\n",
       "      <td>8385</td>\n",
       "      <td>NaN</td>\n",
       "      <td>NaN</td>\n",
       "      <td>2017-10-13 14:00:00+00</td>\n",
       "      <td>2017-10-13 20:10:00+00</td>\n",
       "      <td>4550</td>\n",
       "      <td>2017-10-01 00:13:31.327+00</td>\n",
       "      <td>NaN</td>\n",
       "      <td>NaN</td>\n",
       "      <td>611</td>\n",
       "      <td>542</td>\n",
       "      <td>22200.0</td>\n",
       "    </tr>\n",
       "    <tr>\n",
       "      <th>1</th>\n",
       "      <td>6795026</td>\n",
       "      <td>9</td>\n",
       "      <td>63.0</td>\n",
       "      <td>1044.0</td>\n",
       "      <td>2017-10-13 13:05:00+00</td>\n",
       "      <td>2017-10-14 06:55:00+00</td>\n",
       "      <td>1450</td>\n",
       "      <td>2017-10-01 00:13:35.773+00</td>\n",
       "      <td>{149,418}</td>\n",
       "      <td>{13}</td>\n",
       "      <td>611</td>\n",
       "      <td>542</td>\n",
       "      <td>64200.0</td>\n",
       "    </tr>\n",
       "    <tr>\n",
       "      <th>2</th>\n",
       "      <td>6795027</td>\n",
       "      <td>8377</td>\n",
       "      <td>5905.0</td>\n",
       "      <td>6495.0</td>\n",
       "      <td>2017-10-13 13:27:00+00</td>\n",
       "      <td>2017-10-14 21:24:00+00</td>\n",
       "      <td>7400</td>\n",
       "      <td>2017-10-01 00:13:40.212+00</td>\n",
       "      <td>{798,798,6794,6246}</td>\n",
       "      <td>{8377,8376}</td>\n",
       "      <td>611</td>\n",
       "      <td>542</td>\n",
       "      <td>115020.0</td>\n",
       "    </tr>\n",
       "    <tr>\n",
       "      <th>3</th>\n",
       "      <td>6795028</td>\n",
       "      <td>8377</td>\n",
       "      <td>5905.0</td>\n",
       "      <td>6495.0</td>\n",
       "      <td>2017-10-13 13:27:00+00</td>\n",
       "      <td>2017-10-14 11:02:00+00</td>\n",
       "      <td>13500</td>\n",
       "      <td>2017-10-01 00:13:40.213+00</td>\n",
       "      <td>{798,798,6794,6246}</td>\n",
       "      <td>{8377,8376}</td>\n",
       "      <td>611</td>\n",
       "      <td>542</td>\n",
       "      <td>77700.0</td>\n",
       "    </tr>\n",
       "    <tr>\n",
       "      <th>4</th>\n",
       "      <td>6795029</td>\n",
       "      <td>8381</td>\n",
       "      <td>5905.0</td>\n",
       "      <td>6495.0</td>\n",
       "      <td>2017-10-13 21:46:00+00</td>\n",
       "      <td>2017-10-14 19:32:00+00</td>\n",
       "      <td>7710</td>\n",
       "      <td>2017-10-01 00:13:40.213+00</td>\n",
       "      <td>{5983,5983}</td>\n",
       "      <td>{8380}</td>\n",
       "      <td>611</td>\n",
       "      <td>542</td>\n",
       "      <td>78360.0</td>\n",
       "    </tr>\n",
       "  </tbody>\n",
       "</table>\n",
       "</div>"
      ],
      "text/plain": [
       "        id  company  o_station  d_station            departure_ts  \\\n",
       "0  6795025     8385        NaN        NaN  2017-10-13 14:00:00+00   \n",
       "1  6795026        9       63.0     1044.0  2017-10-13 13:05:00+00   \n",
       "2  6795027     8377     5905.0     6495.0  2017-10-13 13:27:00+00   \n",
       "3  6795028     8377     5905.0     6495.0  2017-10-13 13:27:00+00   \n",
       "4  6795029     8381     5905.0     6495.0  2017-10-13 21:46:00+00   \n",
       "\n",
       "               arrival_ts  price_in_cents                   search_ts  \\\n",
       "0  2017-10-13 20:10:00+00            4550  2017-10-01 00:13:31.327+00   \n",
       "1  2017-10-14 06:55:00+00            1450  2017-10-01 00:13:35.773+00   \n",
       "2  2017-10-14 21:24:00+00            7400  2017-10-01 00:13:40.212+00   \n",
       "3  2017-10-14 11:02:00+00           13500  2017-10-01 00:13:40.213+00   \n",
       "4  2017-10-14 19:32:00+00            7710  2017-10-01 00:13:40.213+00   \n",
       "\n",
       "       middle_stations other_companies  o_city  d_city  duration  \n",
       "0                  NaN             NaN     611     542   22200.0  \n",
       "1            {149,418}            {13}     611     542   64200.0  \n",
       "2  {798,798,6794,6246}     {8377,8376}     611     542  115020.0  \n",
       "3  {798,798,6794,6246}     {8377,8376}     611     542   77700.0  \n",
       "4          {5983,5983}          {8380}     611     542   78360.0  "
      ]
     },
     "execution_count": 6,
     "metadata": {},
     "output_type": "execute_result"
    }
   ],
   "source": [
    "ticket.head(5)"
   ]
  },
  {
   "cell_type": "markdown",
   "id": "cfd0845d",
   "metadata": {},
   "source": [
    "Maintenant, nous pouvons récupérer les valeurs qui nous intéressent."
   ]
  },
  {
   "cell_type": "code",
   "execution_count": 7,
   "id": "a153d6e5",
   "metadata": {},
   "outputs": [
    {
     "data": {
      "text/plain": [
       "count    7.416800e+04\n",
       "mean     2.547725e+04\n",
       "std      3.569888e+04\n",
       "min      1.200000e+03\n",
       "25%      1.080000e+04\n",
       "50%      1.740000e+04\n",
       "75%      2.880000e+04\n",
       "max      1.774260e+06\n",
       "Name: duration, dtype: float64"
      ]
     },
     "execution_count": 7,
     "metadata": {},
     "output_type": "execute_result"
    }
   ],
   "source": [
    "ticket['duration'].describe()"
   ]
  },
  {
   "cell_type": "markdown",
   "id": "e6ce5107",
   "metadata": {},
   "source": [
    "On observe alors que :\n",
    "| Durée minimale | Durée moyenne | Durée maximale |\n",
    "| --- | --- | --- |\n",
    "| 1 200 s | 25 477 s | 1 774 260 s |\n",
    "| soit 20 min | soit 7,08 h | soit 20,54 jours |\n",
    "\n",
    "### Comparatifs train - bus - covoiturage\n",
    "\n",
    "Réalisons un comparatif de la durée et du prix moyen en fonction du type de transport.\n",
    "\n",
    "Commençons par concaténer les DataFrames ticket et providers pour récupérer pour chaque trajet le type de transport correspondant. On enlèvera toutes les colonnes qui ne nous serviront pas pour l'instant."
   ]
  },
  {
   "cell_type": "code",
   "execution_count": 8,
   "id": "0a2fbc80",
   "metadata": {},
   "outputs": [],
   "source": [
    "trajet = pd.merge(ticket, providers, left_on = ['company'], right_on = ['id'])\n",
    "\n",
    "trajet_light = trajet.drop(['search_ts', 'middle_stations', 'other_companies', 'name', 'has_wifi', 'has_plug', 'has_adjustable_seats', 'has_bicycle', 'id_y', 'company_id', 'provider_id', 'fullname'], axis = 1)"
   ]
  },
  {
   "cell_type": "markdown",
   "id": "bd006f2d",
   "metadata": {},
   "source": [
    "On remarque que certaines valeurs correspondant aux stations sont nulles :"
   ]
  },
  {
   "cell_type": "code",
   "execution_count": 9,
   "id": "301e4ca4",
   "metadata": {},
   "outputs": [
    {
     "data": {
      "text/plain": [
       "transport_type\n",
       "carpooling    41441\n",
       "Name: count, dtype: int64"
      ]
     },
     "execution_count": 9,
     "metadata": {},
     "output_type": "execute_result"
    }
   ],
   "source": [
    "test = trajet_light[pd.isnull(trajet_light['o_station'])]\n",
    "\n",
    "test['transport_type'].value_counts()"
   ]
  },
  {
   "cell_type": "code",
   "execution_count": 10,
   "id": "653402af",
   "metadata": {},
   "outputs": [
    {
     "data": {
      "text/plain": [
       "transport_type\n",
       "carpooling    41441\n",
       "train         18929\n",
       "bus           13798\n",
       "Name: count, dtype: int64"
      ]
     },
     "execution_count": 10,
     "metadata": {},
     "output_type": "execute_result"
    }
   ],
   "source": [
    "trajet_light['transport_type'].value_counts()"
   ]
  },
  {
   "cell_type": "markdown",
   "id": "9ecdde76",
   "metadata": {},
   "source": [
    "On en déduit donc qu'il va falloir calculer la distance entre les stations pour les trains et bus, et entre les villes pour le covoiturage. Commençons par diviser notre trajet_light suivant ces deux catégories, avant de calculer les distances correspondantes à chaque trajet.\n",
    "\n",
    "Concernant le covoiturage :"
   ]
  },
  {
   "cell_type": "code",
   "execution_count": 11,
   "id": "0a01b03e",
   "metadata": {},
   "outputs": [],
   "source": [
    "carpooling = trajet_light[trajet_light.transport_type == \"carpooling\"]\n",
    "\n",
    "# Jointure pour le départ\n",
    "carpooling = pd.merge(carpooling, cities, left_on = ['o_city'], right_on = ['id'], suffixes = ('','_o'))\n",
    "carpooling.drop(['id', 'local_name', 'unique_name', 'population'], axis = 1, inplace = True)\n",
    "\n",
    "# Jointure pour l'arrivée\n",
    "carpooling = pd.merge(carpooling, cities, left_on = ['d_city'], right_on = ['id'], suffixes = ('','_d'))\n",
    "carpooling.drop(['id', 'local_name', 'unique_name', 'population', 'o_station', 'd_station'], axis = 1, inplace = True)"
   ]
  },
  {
   "cell_type": "markdown",
   "id": "a9b255d2",
   "metadata": {},
   "source": [
    "Maintenant que nous avons joint les données de longitude et latitude nécessaires et supprimé les colonnes inutiles, il ne nous reste plus qu'à calculer la distance à vol d'oiseau entre les villes, d'après les formules issues des mathématiques :"
   ]
  },
  {
   "cell_type": "code",
   "execution_count": 12,
   "id": "0762e69e",
   "metadata": {},
   "outputs": [],
   "source": [
    "carpooling['distance'] = carpooling.apply(lambda x : 6378.137 * math.acos(math.sin(math.radians(x[\"latitude\"])) * math.sin(math.radians(x[\"latitude_d\"])) + math.cos(math.radians(x[\"latitude\"])) * math.cos(math.radians(x[\"latitude_d\"])) * math.cos(math.radians(x[\"longitude_d\"]) - math.radians(x[\"longitude\"]))), axis = 1)\n",
    "carpooling.drop(['o_city', 'd_city', 'latitude', 'longitude', 'latitude_d', 'longitude_d'], axis = 1, inplace = True)"
   ]
  },
  {
   "cell_type": "markdown",
   "id": "3e1fe5e2",
   "metadata": {},
   "source": [
    "Maintenant, nous allons répéter le même processus pour les bus et trains, en partant des stations cette fois-ci."
   ]
  },
  {
   "cell_type": "code",
   "execution_count": 13,
   "id": "a565ad5e",
   "metadata": {},
   "outputs": [],
   "source": [
    "bus_trains = trajet_light[(trajet_light.transport_type == \"train\") | (trajet_light.transport_type == \"bus\")]\n",
    "\n",
    "# Jointure pour le départ\n",
    "bus_trains = pd.merge(bus_trains, stations, left_on = ['o_station'], right_on = ['id'], suffixes = ('','_o'))\n",
    "bus_trains.drop(['id', 'unique_name'], axis = 1, inplace = True)\n",
    "\n",
    "# Jointure pour l'arrivée\n",
    "bus_trains = pd.merge(bus_trains, stations, left_on = ['d_station'], right_on = ['id'], suffixes = ('','_d'))\n",
    "bus_trains.drop(['id', 'unique_name'], axis = 1, inplace = True)\n",
    "\n",
    "# Calcul de distance à vol d'oiseau\n",
    "bus_trains['distance'] = bus_trains.apply(lambda x : 6378.137 * math.acos(math.sin(math.radians(x[\"latitude\"])) * math.sin(math.radians(x[\"latitude_d\"])) + math.cos(math.radians(x[\"latitude\"])) * math.cos(math.radians(x[\"latitude_d\"])) * math.cos(math.radians(x[\"longitude_d\"]) - math.radians(x[\"longitude\"]))), axis = 1)\n",
    "bus_trains.drop(['o_station', 'd_station', 'o_city', 'd_city', 'latitude', 'longitude', 'latitude_d', 'longitude_d'], axis = 1, inplace = True)"
   ]
  },
  {
   "cell_type": "markdown",
   "id": "726bd37a",
   "metadata": {},
   "source": [
    "Il ne nous reste alors plus qu'à concaténer les deux DataFrames constitués pour recréer trajet_light :"
   ]
  },
  {
   "cell_type": "code",
   "execution_count": 14,
   "id": "12f77c5c",
   "metadata": {},
   "outputs": [
    {
     "data": {
      "text/plain": [
       "transport_type\n",
       "carpooling    41441\n",
       "train         18929\n",
       "bus           13798\n",
       "Name: count, dtype: int64"
      ]
     },
     "execution_count": 14,
     "metadata": {},
     "output_type": "execute_result"
    }
   ],
   "source": [
    "trajet_light = pd.concat([bus_trains, carpooling])\n",
    "\n",
    "trajet_light['transport_type'].value_counts()"
   ]
  },
  {
   "cell_type": "code",
   "execution_count": 15,
   "id": "178ec409",
   "metadata": {},
   "outputs": [
    {
     "data": {
      "text/html": [
       "<div>\n",
       "<style scoped>\n",
       "    .dataframe tbody tr th:only-of-type {\n",
       "        vertical-align: middle;\n",
       "    }\n",
       "\n",
       "    .dataframe tbody tr th {\n",
       "        vertical-align: top;\n",
       "    }\n",
       "\n",
       "    .dataframe thead th {\n",
       "        text-align: right;\n",
       "    }\n",
       "</style>\n",
       "<table border=\"1\" class=\"dataframe\">\n",
       "  <thead>\n",
       "    <tr style=\"text-align: right;\">\n",
       "      <th></th>\n",
       "      <th>id_x</th>\n",
       "      <th>company</th>\n",
       "      <th>departure_ts</th>\n",
       "      <th>arrival_ts</th>\n",
       "      <th>price_in_cents</th>\n",
       "      <th>duration</th>\n",
       "      <th>transport_type</th>\n",
       "      <th>distance</th>\n",
       "    </tr>\n",
       "  </thead>\n",
       "  <tbody>\n",
       "  </tbody>\n",
       "</table>\n",
       "</div>"
      ],
      "text/plain": [
       "Empty DataFrame\n",
       "Columns: [id_x, company, departure_ts, arrival_ts, price_in_cents, duration, transport_type, distance]\n",
       "Index: []"
      ]
     },
     "execution_count": 15,
     "metadata": {},
     "output_type": "execute_result"
    }
   ],
   "source": [
    "trajet_light[pd.isnull(trajet_light['distance'])]"
   ]
  },
  {
   "cell_type": "markdown",
   "id": "4a307a9f",
   "metadata": {},
   "source": [
    "Ces vérifications nous permettent de vérifier que nous n'avons pas perdu de données et qu'il n'y a pas de ligne où la distance est nulle. Maintenant que nous avons calculé la longueur, la durée et le prix de chaque trajet répertorié dans ticket, il nous faut extraire le comparatif souhaité."
   ]
  },
  {
   "cell_type": "code",
   "execution_count": 16,
   "id": "d30f8bc4",
   "metadata": {},
   "outputs": [],
   "source": [
    "separates = [0, 200, 500, 800, 1200, 1800, 2000]\n",
    "labels = ['<200km', '201-500km', '501-800km','800-1200km', '1200-1800km', '>1800km']\n",
    "trajet_light['interval'] = pd.cut(trajet_light['distance'], bins = separates, labels = labels)"
   ]
  },
  {
   "cell_type": "markdown",
   "id": "85f3db90",
   "metadata": {},
   "source": [
    "Nous allons maintenant utiliser la fonction groupby pour pouvoir regrouper les prix et durées moyennes en fonction de l'intervalle de distance et du type de transports :"
   ]
  },
  {
   "cell_type": "code",
   "execution_count": 17,
   "id": "9d0d2ffa",
   "metadata": {},
   "outputs": [
    {
     "data": {
      "text/html": [
       "<div>\n",
       "<style scoped>\n",
       "    .dataframe tbody tr th:only-of-type {\n",
       "        vertical-align: middle;\n",
       "    }\n",
       "\n",
       "    .dataframe tbody tr th {\n",
       "        vertical-align: top;\n",
       "    }\n",
       "\n",
       "    .dataframe thead th {\n",
       "        text-align: right;\n",
       "    }\n",
       "</style>\n",
       "<table border=\"1\" class=\"dataframe\">\n",
       "  <thead>\n",
       "    <tr style=\"text-align: right;\">\n",
       "      <th></th>\n",
       "      <th></th>\n",
       "      <th>price_in_cents</th>\n",
       "      <th>duration</th>\n",
       "    </tr>\n",
       "    <tr>\n",
       "      <th>interval</th>\n",
       "      <th>transport_type</th>\n",
       "      <th></th>\n",
       "      <th></th>\n",
       "    </tr>\n",
       "  </thead>\n",
       "  <tbody>\n",
       "    <tr>\n",
       "      <th rowspan=\"3\" valign=\"top\">&lt;200km</th>\n",
       "      <th>bus</th>\n",
       "      <td>2109.564581</td>\n",
       "      <td>38847.083888</td>\n",
       "    </tr>\n",
       "    <tr>\n",
       "      <th>carpooling</th>\n",
       "      <td>1177.352385</td>\n",
       "      <td>7027.342428</td>\n",
       "    </tr>\n",
       "    <tr>\n",
       "      <th>train</th>\n",
       "      <td>3597.305970</td>\n",
       "      <td>15700.097015</td>\n",
       "    </tr>\n",
       "    <tr>\n",
       "      <th rowspan=\"3\" valign=\"top\">201-500km</th>\n",
       "      <th>bus</th>\n",
       "      <td>3062.969170</td>\n",
       "      <td>45699.063019</td>\n",
       "    </tr>\n",
       "    <tr>\n",
       "      <th>carpooling</th>\n",
       "      <td>2870.198445</td>\n",
       "      <td>15324.825765</td>\n",
       "    </tr>\n",
       "    <tr>\n",
       "      <th>train</th>\n",
       "      <td>8188.122279</td>\n",
       "      <td>25597.334044</td>\n",
       "    </tr>\n",
       "    <tr>\n",
       "      <th rowspan=\"3\" valign=\"top\">501-800km</th>\n",
       "      <th>bus</th>\n",
       "      <td>4214.439344</td>\n",
       "      <td>66957.088525</td>\n",
       "    </tr>\n",
       "    <tr>\n",
       "      <th>carpooling</th>\n",
       "      <td>5593.100426</td>\n",
       "      <td>29589.932382</td>\n",
       "    </tr>\n",
       "    <tr>\n",
       "      <th>train</th>\n",
       "      <td>11598.583031</td>\n",
       "      <td>33281.714041</td>\n",
       "    </tr>\n",
       "    <tr>\n",
       "      <th rowspan=\"3\" valign=\"top\">800-1200km</th>\n",
       "      <th>bus</th>\n",
       "      <td>6593.014493</td>\n",
       "      <td>93808.012422</td>\n",
       "    </tr>\n",
       "    <tr>\n",
       "      <th>carpooling</th>\n",
       "      <td>7797.445378</td>\n",
       "      <td>41566.386555</td>\n",
       "    </tr>\n",
       "    <tr>\n",
       "      <th>train</th>\n",
       "      <td>15680.126183</td>\n",
       "      <td>43982.460568</td>\n",
       "    </tr>\n",
       "    <tr>\n",
       "      <th rowspan=\"3\" valign=\"top\">1200-1800km</th>\n",
       "      <th>bus</th>\n",
       "      <td>9444.802920</td>\n",
       "      <td>136430.802920</td>\n",
       "    </tr>\n",
       "    <tr>\n",
       "      <th>carpooling</th>\n",
       "      <td>12737.500000</td>\n",
       "      <td>74900.000000</td>\n",
       "    </tr>\n",
       "    <tr>\n",
       "      <th>train</th>\n",
       "      <td>NaN</td>\n",
       "      <td>NaN</td>\n",
       "    </tr>\n",
       "    <tr>\n",
       "      <th rowspan=\"3\" valign=\"top\">&gt;1800km</th>\n",
       "      <th>bus</th>\n",
       "      <td>16395.000000</td>\n",
       "      <td>171000.000000</td>\n",
       "    </tr>\n",
       "    <tr>\n",
       "      <th>carpooling</th>\n",
       "      <td>NaN</td>\n",
       "      <td>NaN</td>\n",
       "    </tr>\n",
       "    <tr>\n",
       "      <th>train</th>\n",
       "      <td>NaN</td>\n",
       "      <td>NaN</td>\n",
       "    </tr>\n",
       "  </tbody>\n",
       "</table>\n",
       "</div>"
      ],
      "text/plain": [
       "                            price_in_cents       duration\n",
       "interval    transport_type                               \n",
       "<200km      bus                2109.564581   38847.083888\n",
       "            carpooling         1177.352385    7027.342428\n",
       "            train              3597.305970   15700.097015\n",
       "201-500km   bus                3062.969170   45699.063019\n",
       "            carpooling         2870.198445   15324.825765\n",
       "            train              8188.122279   25597.334044\n",
       "501-800km   bus                4214.439344   66957.088525\n",
       "            carpooling         5593.100426   29589.932382\n",
       "            train             11598.583031   33281.714041\n",
       "800-1200km  bus                6593.014493   93808.012422\n",
       "            carpooling         7797.445378   41566.386555\n",
       "            train             15680.126183   43982.460568\n",
       "1200-1800km bus                9444.802920  136430.802920\n",
       "            carpooling        12737.500000   74900.000000\n",
       "            train                      NaN            NaN\n",
       ">1800km     bus               16395.000000  171000.000000\n",
       "            carpooling                 NaN            NaN\n",
       "            train                      NaN            NaN"
      ]
     },
     "execution_count": 17,
     "metadata": {},
     "output_type": "execute_result"
    }
   ],
   "source": [
    "trajet_group = trajet_light.groupby(['interval', 'transport_type']).agg({'price_in_cents' : 'mean', 'duration' : 'mean'})\n",
    "\n",
    "trajet_group"
   ]
  },
  {
   "cell_type": "markdown",
   "id": "ade5d612",
   "metadata": {},
   "source": [
    "Pour pouvoir conclure aisément sur le \"meilleur\" mode de transport, nous allons tracer des graphiques correspondant aux durées et prix moyens :"
   ]
  },
  {
   "cell_type": "code",
   "execution_count": 18,
   "id": "ebc040a8",
   "metadata": {},
   "outputs": [
    {
     "data": {
      "text/plain": [
       "<AxesSubplot:xlabel='interval', ylabel='price_in_cents'>"
      ]
     },
     "execution_count": 18,
     "metadata": {},
     "output_type": "execute_result"
    },
    {
     "data": {
      "image/png": "[encoded data removed]",
      "text/plain": [
       "<Figure size 640x480 with 1 Axes>"
      ]
     },
     "metadata": {},
     "output_type": "display_data"
    }
   ],
   "source": [
    "import seaborn as sns\n",
    "\n",
    "sns.scatterplot(x = \"interval\", y = \"price_in_cents\", data = trajet_group, hue = \"transport_type\")"
   ]
  },
  {
   "cell_type": "markdown",
   "id": "4d03f0f7",
   "metadata": {},
   "source": [
    "Avant 500km, c'est le covoiturage qui coûte le moins cher, alors qu'au-delà de 500km, le bus semble être à privilégier."
   ]
  },
  {
   "cell_type": "code",
   "execution_count": 19,
   "id": "7c62e80a",
   "metadata": {},
   "outputs": [
    {
     "data": {
      "text/plain": [
       "<AxesSubplot:xlabel='interval', ylabel='duration'>"
      ]
     },
     "execution_count": 19,
     "metadata": {},
     "output_type": "execute_result"
    },
    {
     "data": {
      "image/png": "[encoded data removed]",
      "text/plain": [
       "<Figure size 640x480 with 1 Axes>"
      ]
     },
     "metadata": {},
     "output_type": "display_data"
    }
   ],
   "source": [
    "sns.scatterplot(x = \"interval\", y = \"duration\", data = trajet_group, hue = \"transport_type\")"
   ]
  },
  {
   "cell_type": "markdown",
   "id": "13cc13b0",
   "metadata": {},
   "source": [
    "Au niveau de la durée, c'est le covoiturage qui semble être le plus rapide en général.\n",
    "\n",
    "En conclusion, le covoiturage semble être une bonne solution pour un bon rapport durée-prix."
   ]
  },
  {
   "cell_type": "markdown",
   "id": "af27b777",
   "metadata": {},
   "source": [
    "### Bonus : prédiction de prix\n",
    "\n",
    "Dans cette partie, nous allons tenter de faire un peu de Machine Learning pour construire un modèle de prédiction de prix en fonction du type de transport, de la durée et de la distance. Nous allons commencer par enlever les colonnes inutiles ici et par convertir les types de transport en entier pour pouvoir réaliser le modèle souhaité. On pensera aussi à convertir les données de temps en flottant pour réaliser cet apprentissage."
   ]
  },
  {
   "cell_type": "code",
   "execution_count": 20,
   "id": "cc750949",
   "metadata": {},
   "outputs": [],
   "source": [
    "# Conversion des types de transport\n",
    "trajet_light[\"transport_type\"] = trajet_light[\"transport_type\"].map({\"bus\" : 0, \"carpooling\" : 1, \"train\" : 2})\n",
    "\n",
    "# Conversion en timestamp\n",
    "trajet_light['departure_time'] = trajet_light.apply(lambda x : datetime.datetime.timestamp(pd.to_datetime(x['departure_ts'])), axis = 1)\n",
    "trajet_light['arrival_time'] = trajet_light.apply(lambda x : datetime.datetime.timestamp(pd.to_datetime(x['arrival_ts'])), axis = 1)\n",
    "\n",
    "trajet_light.drop(['departure_ts', 'arrival_ts', 'id_x', 'interval'], axis = 1, inplace = True)"
   ]
  },
  {
   "cell_type": "markdown",
   "id": "6b17b9d7",
   "metadata": {},
   "source": [
    "Nous pouvons maintenant appliquer notre premier modèle de régression (puisque l'on souhaite prédire un prix), RidgeRegression :"
   ]
  },
  {
   "cell_type": "code",
   "execution_count": 21,
   "id": "02113c9d",
   "metadata": {},
   "outputs": [
    {
     "data": {
      "text/plain": [
       "0.6145446510173919"
      ]
     },
     "execution_count": 21,
     "metadata": {},
     "output_type": "execute_result"
    }
   ],
   "source": [
    "from sklearn.model_selection import train_test_split\n",
    "from sklearn.linear_model import Ridge\n",
    "from sklearn.metrics import r2_score\n",
    "\n",
    "# Décomposition entre données d'entraînement et données de test\n",
    "Y = trajet_light[\"price_in_cents\"]\n",
    "X = trajet_light.drop([\"price_in_cents\"], axis = 1)\n",
    "X_train, X_test, Y_train, Y_test = train_test_split(X, Y, test_size = 0.2)\n",
    "\n",
    "# Réalisation du Ridge\n",
    "reg = Ridge(alpha = 1)\n",
    "reg.fit(X_train, Y_train)\n",
    "\n",
    "# Phase de prédiction du test\n",
    "Y_predict = reg.predict(X_test)\n",
    "\n",
    "# Calcul de l'efficacité de notre modèle\n",
    "r2_score(Y_test, Y_predict)"
   ]
  },
  {
   "cell_type": "markdown",
   "id": "93c40737",
   "metadata": {},
   "source": [
    "On voit donc que le R² n'est pas très élevé, puisqu'il devrait idéalement être proche de 1. Nous allons donc tenter d'améliorer notre algorithme. Pour cela, commençons par évaluer l'impact de chacun de nos coefficients :"
   ]
  },
  {
   "cell_type": "code",
   "execution_count": 22,
   "id": "f12734c9",
   "metadata": {},
   "outputs": [
    {
     "data": {
      "text/plain": [
       "array([-3.34757339e-01,  3.05816420e-03,  4.07839042e+03,  9.81703323e+00,\n",
       "       -1.10091943e-04,  2.49374457e-04])"
      ]
     },
     "execution_count": 22,
     "metadata": {},
     "output_type": "execute_result"
    }
   ],
   "source": [
    "reg.coef_"
   ]
  },
  {
   "cell_type": "markdown",
   "id": "e6108834",
   "metadata": {},
   "source": [
    "Il est donc clair que les données liées au départ et à l'arrivée ne sont pas utiles ici. Nous allons les supprimer :"
   ]
  },
  {
   "cell_type": "code",
   "execution_count": 23,
   "id": "19f4b48a",
   "metadata": {},
   "outputs": [],
   "source": [
    "trajet_light.drop(['departure_time', 'arrival_time'], axis = 1, inplace = True)"
   ]
  },
  {
   "cell_type": "markdown",
   "id": "30c1cc5c",
   "metadata": {},
   "source": [
    "Maintenant, tentons d'améliorer notre valeur de Alpha avec plusieurs itérations :"
   ]
  },
  {
   "cell_type": "code",
   "execution_count": 24,
   "id": "6159f955",
   "metadata": {},
   "outputs": [
    {
     "data": {
      "text/plain": [
       "{'alpha': 0.1}"
      ]
     },
     "execution_count": 24,
     "metadata": {},
     "output_type": "execute_result"
    }
   ],
   "source": [
    "from sklearn.model_selection import GridSearchCV\n",
    "\n",
    "# Décomposition entre données d'entraînement et données de test\n",
    "Y = trajet_light[\"price_in_cents\"]\n",
    "X = trajet_light.drop([\"price_in_cents\"], axis = 1)\n",
    "X_train, X_test, Y_train, Y_test = train_test_split(X, Y, test_size = 0.2)\n",
    "\n",
    "# Réalisation du Ridge\n",
    "reg = Ridge()\n",
    "\n",
    "# Choix du paramètre idéal\n",
    "param_grid = {'alpha': [0.1, 0.5, 1.0, 2.0, 5.0, 8.0, 10.0, 12.0]}\n",
    "grid_search = GridSearchCV(reg, param_grid, cv=5, scoring='r2')\n",
    "grid_search.fit(X_train, Y_train)\n",
    "\n",
    "# Valeur idéale\n",
    "grid_search.best_params_"
   ]
  },
  {
   "cell_type": "code",
   "execution_count": 25,
   "id": "bb0cc82d",
   "metadata": {},
   "outputs": [
    {
     "data": {
      "text/plain": [
       "{'alpha': 1.0}"
      ]
     },
     "execution_count": 25,
     "metadata": {},
     "output_type": "execute_result"
    }
   ],
   "source": [
    "# Réalisation du Ridge\n",
    "reg = Ridge()\n",
    "\n",
    "# Choix du paramètre idéal\n",
    "param_grid = {'alpha': [1.0, 1.5, 2.0, 2.5]}\n",
    "grid_search = GridSearchCV(reg, param_grid, cv=5, scoring='r2')\n",
    "grid_search.fit(X_train, Y_train)\n",
    "\n",
    "# Valeur idéale\n",
    "grid_search.best_params_"
   ]
  },
  {
   "cell_type": "code",
   "execution_count": 26,
   "id": "963231f1",
   "metadata": {},
   "outputs": [
    {
     "data": {
      "text/plain": [
       "{'alpha': 1.5}"
      ]
     },
     "execution_count": 26,
     "metadata": {},
     "output_type": "execute_result"
    }
   ],
   "source": [
    "# Réalisation du Ridge\n",
    "reg = Ridge()\n",
    "\n",
    "# Choix du paramètre idéal\n",
    "param_grid = {'alpha': [1.5, 1.6, 1.7, 1.8, 1.9, 2.0, 2.1, 2.2, 2.3, 2.4, 2.5]}\n",
    "grid_search = GridSearchCV(reg, param_grid, cv=5, scoring='r2')\n",
    "grid_search.fit(X_train, Y_train)\n",
    "\n",
    "# Valeur idéale\n",
    "grid_search.best_params_"
   ]
  },
  {
   "cell_type": "markdown",
   "id": "4a31ff93",
   "metadata": {},
   "source": [
    "La valeur idéale de Alpha semble être 2. Nous allons donc re-calculer notre valeur de R² avec ce nouveau paramètre :"
   ]
  },
  {
   "cell_type": "code",
   "execution_count": 27,
   "id": "5ca45e9c",
   "metadata": {},
   "outputs": [
    {
     "data": {
      "text/plain": [
       "0.617837102903189"
      ]
     },
     "execution_count": 27,
     "metadata": {},
     "output_type": "execute_result"
    }
   ],
   "source": [
    "# Décomposition entre données d'entraînement et données de test\n",
    "Y = trajet_light[\"price_in_cents\"]\n",
    "X = trajet_light.drop([\"price_in_cents\"], axis = 1)\n",
    "X_train, X_test, Y_train, Y_test = train_test_split(X, Y, test_size = 0.2)\n",
    "\n",
    "# Réalisation du Ridge\n",
    "reg = Ridge(alpha = 2)\n",
    "reg.fit(X_train, Y_train)\n",
    "\n",
    "# Phase de prédiction du test\n",
    "Y_predict = reg.predict(X_test)\n",
    "\n",
    "# Calcul de l'efficacité de notre modèle\n",
    "r2_score(Y_test, Y_predict)"
   ]
  },
  {
   "cell_type": "markdown",
   "id": "e315df12",
   "metadata": {},
   "source": [
    "On note alors une légère amélioration. Il existe certainement beaucoup de techniques pour améliorer cet algorithme, mais pour les besoins de ce test, j'ai préféré m'arrêter ici. Par ailleurs, le test d'autres algorithmes (SGD Regressor, Lasso et SVR) ce sont révélés infructueux, RidgeRegression étant le plus performant."
   ]
  },
  {
   "cell_type": "markdown",
   "id": "d6c3c4e6",
   "metadata": {},
   "source": [
    "### Bonus : Rapport des soucis relevés dans les données\n",
    "\n",
    "Dans cette partie, nous allons essayer de détailler l'ensemble des soucis qui peuvent entraîner des erreurs, des incohérences ou des complications. Regardons alors chaque DataFrame initial :"
   ]
  },
  {
   "cell_type": "code",
   "execution_count": 28,
   "id": "5d832af6",
   "metadata": {},
   "outputs": [
    {
     "name": "stdout",
     "output_type": "stream",
     "text": [
      "<class 'pandas.core.frame.DataFrame'>\n",
      "RangeIndex: 11035 entries, 0 to 11034\n",
      "Data columns (total 4 columns):\n",
      " #   Column       Non-Null Count  Dtype  \n",
      "---  ------       --------------  -----  \n",
      " 0   id           11035 non-null  int64  \n",
      " 1   unique_name  11035 non-null  object \n",
      " 2   latitude     11035 non-null  float64\n",
      " 3   longitude    11035 non-null  float64\n",
      "dtypes: float64(2), int64(1), object(1)\n",
      "memory usage: 345.0+ KB\n"
     ]
    }
   ],
   "source": [
    "stations.info()"
   ]
  },
  {
   "cell_type": "code",
   "execution_count": 29,
   "id": "6ff928fd",
   "metadata": {},
   "outputs": [
    {
     "data": {
      "text/html": [
       "<div>\n",
       "<style scoped>\n",
       "    .dataframe tbody tr th:only-of-type {\n",
       "        vertical-align: middle;\n",
       "    }\n",
       "\n",
       "    .dataframe tbody tr th {\n",
       "        vertical-align: top;\n",
       "    }\n",
       "\n",
       "    .dataframe thead th {\n",
       "        text-align: right;\n",
       "    }\n",
       "</style>\n",
       "<table border=\"1\" class=\"dataframe\">\n",
       "  <thead>\n",
       "    <tr style=\"text-align: right;\">\n",
       "      <th></th>\n",
       "      <th>id</th>\n",
       "      <th>latitude</th>\n",
       "      <th>longitude</th>\n",
       "    </tr>\n",
       "  </thead>\n",
       "  <tbody>\n",
       "    <tr>\n",
       "      <th>count</th>\n",
       "      <td>11035.000000</td>\n",
       "      <td>11035.000000</td>\n",
       "      <td>11035.000000</td>\n",
       "    </tr>\n",
       "    <tr>\n",
       "      <th>mean</th>\n",
       "      <td>5518.026914</td>\n",
       "      <td>47.526678</td>\n",
       "      <td>7.580807</td>\n",
       "    </tr>\n",
       "    <tr>\n",
       "      <th>std</th>\n",
       "      <td>3185.719813</td>\n",
       "      <td>3.953972</td>\n",
       "      <td>63.655681</td>\n",
       "    </tr>\n",
       "    <tr>\n",
       "      <th>min</th>\n",
       "      <td>1.000000</td>\n",
       "      <td>-22.355790</td>\n",
       "      <td>-22.625538</td>\n",
       "    </tr>\n",
       "    <tr>\n",
       "      <th>25%</th>\n",
       "      <td>2759.500000</td>\n",
       "      <td>44.896447</td>\n",
       "      <td>1.358655</td>\n",
       "    </tr>\n",
       "    <tr>\n",
       "      <th>50%</th>\n",
       "      <td>5518.000000</td>\n",
       "      <td>47.759670</td>\n",
       "      <td>5.824010</td>\n",
       "    </tr>\n",
       "    <tr>\n",
       "      <th>75%</th>\n",
       "      <td>8276.500000</td>\n",
       "      <td>50.349956</td>\n",
       "      <td>12.166133</td>\n",
       "    </tr>\n",
       "    <tr>\n",
       "      <th>max</th>\n",
       "      <td>11036.000000</td>\n",
       "      <td>64.137571</td>\n",
       "      <td>6645.000000</td>\n",
       "    </tr>\n",
       "  </tbody>\n",
       "</table>\n",
       "</div>"
      ],
      "text/plain": [
       "                 id      latitude     longitude\n",
       "count  11035.000000  11035.000000  11035.000000\n",
       "mean    5518.026914     47.526678      7.580807\n",
       "std     3185.719813      3.953972     63.655681\n",
       "min        1.000000    -22.355790    -22.625538\n",
       "25%     2759.500000     44.896447      1.358655\n",
       "50%     5518.000000     47.759670      5.824010\n",
       "75%     8276.500000     50.349956     12.166133\n",
       "max    11036.000000     64.137571   6645.000000"
      ]
     },
     "execution_count": 29,
     "metadata": {},
     "output_type": "execute_result"
    }
   ],
   "source": [
    "stations.describe()"
   ]
  },
  {
   "cell_type": "markdown",
   "id": "cf34c161",
   "metadata": {},
   "source": [
    "Pour stations, ayant besoin d'une grande précision sur la latitude et la longitude, le choix du type float64 paraît entièrement justifié.\n",
    "\n",
    "Par contre, l'utilisation d'un int64 pour l'id n'est pas un choix idéal, car celui-ci étant compris entre 1 et 11035, le type int16 aurait été plus judicieux. En effet, int16 est codé sur 2 octets alors que int64 est codé sur 8 octets. Nous aurions donc pu largement gagner en utilisation mémoire."
   ]
  },
  {
   "cell_type": "code",
   "execution_count": 30,
   "id": "595a12c3",
   "metadata": {},
   "outputs": [
    {
     "data": {
      "text/html": [
       "<div>\n",
       "<style scoped>\n",
       "    .dataframe tbody tr th:only-of-type {\n",
       "        vertical-align: middle;\n",
       "    }\n",
       "\n",
       "    .dataframe tbody tr th {\n",
       "        vertical-align: top;\n",
       "    }\n",
       "\n",
       "    .dataframe thead th {\n",
       "        text-align: right;\n",
       "    }\n",
       "</style>\n",
       "<table border=\"1\" class=\"dataframe\">\n",
       "  <thead>\n",
       "    <tr style=\"text-align: right;\">\n",
       "      <th></th>\n",
       "      <th>id</th>\n",
       "      <th>unique_name</th>\n",
       "      <th>latitude</th>\n",
       "      <th>longitude</th>\n",
       "    </tr>\n",
       "  </thead>\n",
       "  <tbody>\n",
       "    <tr>\n",
       "      <th>161</th>\n",
       "      <td>162</td>\n",
       "      <td>Combloux - Office du tourisme</td>\n",
       "      <td>45.894811</td>\n",
       "      <td>6645.0</td>\n",
       "    </tr>\n",
       "  </tbody>\n",
       "</table>\n",
       "</div>"
      ],
      "text/plain": [
       "      id                    unique_name   latitude  longitude\n",
       "161  162  Combloux - Office du tourisme  45.894811     6645.0"
      ]
     },
     "execution_count": 30,
     "metadata": {},
     "output_type": "execute_result"
    }
   ],
   "source": [
    "stations[(stations.longitude > 45) | (stations.longitude < -30)]"
   ]
  },
  {
   "cell_type": "markdown",
   "id": "b69990cd",
   "metadata": {},
   "source": [
    "D'ailleurs, on remarque une forte erreur au niveau de la longitude de cette station (en réalité de 6.645), ce qui peut entraîner de fortes erreurs dans nos résultats tout au long de ce test."
   ]
  },
  {
   "cell_type": "code",
   "execution_count": 31,
   "id": "9451a5cf",
   "metadata": {},
   "outputs": [
    {
     "name": "stdout",
     "output_type": "stream",
     "text": [
      "<class 'pandas.core.frame.DataFrame'>\n",
      "RangeIndex: 227 entries, 0 to 226\n",
      "Data columns (total 10 columns):\n",
      " #   Column                Non-Null Count  Dtype \n",
      "---  ------                --------------  ----- \n",
      " 0   id                    227 non-null    int64 \n",
      " 1   company_id            227 non-null    int64 \n",
      " 2   provider_id           213 non-null    object\n",
      " 3   name                  227 non-null    object\n",
      " 4   fullname              227 non-null    object\n",
      " 5   has_wifi              224 non-null    object\n",
      " 6   has_plug              224 non-null    object\n",
      " 7   has_adjustable_seats  224 non-null    object\n",
      " 8   has_bicycle           224 non-null    object\n",
      " 9   transport_type        227 non-null    object\n",
      "dtypes: int64(2), object(8)\n",
      "memory usage: 17.9+ KB\n"
     ]
    }
   ],
   "source": [
    "providers.info()"
   ]
  },
  {
   "cell_type": "code",
   "execution_count": 32,
   "id": "2059b83c",
   "metadata": {},
   "outputs": [
    {
     "data": {
      "text/html": [
       "<div>\n",
       "<style scoped>\n",
       "    .dataframe tbody tr th:only-of-type {\n",
       "        vertical-align: middle;\n",
       "    }\n",
       "\n",
       "    .dataframe tbody tr th {\n",
       "        vertical-align: top;\n",
       "    }\n",
       "\n",
       "    .dataframe thead th {\n",
       "        text-align: right;\n",
       "    }\n",
       "</style>\n",
       "<table border=\"1\" class=\"dataframe\">\n",
       "  <thead>\n",
       "    <tr style=\"text-align: right;\">\n",
       "      <th></th>\n",
       "      <th>id</th>\n",
       "      <th>company_id</th>\n",
       "    </tr>\n",
       "  </thead>\n",
       "  <tbody>\n",
       "    <tr>\n",
       "      <th>count</th>\n",
       "      <td>227.000000</td>\n",
       "      <td>227.000000</td>\n",
       "    </tr>\n",
       "    <tr>\n",
       "      <th>mean</th>\n",
       "      <td>790.656388</td>\n",
       "      <td>9.343612</td>\n",
       "    </tr>\n",
       "    <tr>\n",
       "      <th>std</th>\n",
       "      <td>2251.823950</td>\n",
       "      <td>3.036065</td>\n",
       "    </tr>\n",
       "    <tr>\n",
       "      <th>min</th>\n",
       "      <td>9.000000</td>\n",
       "      <td>1.000000</td>\n",
       "    </tr>\n",
       "    <tr>\n",
       "      <th>25%</th>\n",
       "      <td>66.500000</td>\n",
       "      <td>9.000000</td>\n",
       "    </tr>\n",
       "    <tr>\n",
       "      <th>50%</th>\n",
       "      <td>127.000000</td>\n",
       "      <td>9.000000</td>\n",
       "    </tr>\n",
       "    <tr>\n",
       "      <th>75%</th>\n",
       "      <td>183.500000</td>\n",
       "      <td>9.000000</td>\n",
       "    </tr>\n",
       "    <tr>\n",
       "      <th>max</th>\n",
       "      <td>8389.000000</td>\n",
       "      <td>40.000000</td>\n",
       "    </tr>\n",
       "  </tbody>\n",
       "</table>\n",
       "</div>"
      ],
      "text/plain": [
       "                id  company_id\n",
       "count   227.000000  227.000000\n",
       "mean    790.656388    9.343612\n",
       "std    2251.823950    3.036065\n",
       "min       9.000000    1.000000\n",
       "25%      66.500000    9.000000\n",
       "50%     127.000000    9.000000\n",
       "75%     183.500000    9.000000\n",
       "max    8389.000000   40.000000"
      ]
     },
     "execution_count": 32,
     "metadata": {},
     "output_type": "execute_result"
    }
   ],
   "source": [
    "providers.describe()"
   ]
  },
  {
   "cell_type": "markdown",
   "id": "84f2e8fd",
   "metadata": {},
   "source": [
    "Ici, id et company_id auraient aussi pu être convertis respectivement en int8 (1 octet de mémoire) et int16 (2 octets de mémoire) afin de gagner en mémoire, au vu du faible nombre de lignes et des valeurs minimales et maximales."
   ]
  },
  {
   "cell_type": "code",
   "execution_count": 33,
   "id": "1c053ab0",
   "metadata": {},
   "outputs": [
    {
     "name": "stdout",
     "output_type": "stream",
     "text": [
      "<class 'pandas.core.frame.DataFrame'>\n",
      "RangeIndex: 8040 entries, 0 to 8039\n",
      "Data columns (total 6 columns):\n",
      " #   Column       Non-Null Count  Dtype  \n",
      "---  ------       --------------  -----  \n",
      " 0   id           8040 non-null   int64  \n",
      " 1   local_name   8040 non-null   object \n",
      " 2   unique_name  8039 non-null   object \n",
      " 3   latitude     8040 non-null   float64\n",
      " 4   longitude    8040 non-null   float64\n",
      " 5   population   369 non-null    float64\n",
      "dtypes: float64(3), int64(1), object(2)\n",
      "memory usage: 377.0+ KB\n"
     ]
    }
   ],
   "source": [
    "cities.info()"
   ]
  },
  {
   "cell_type": "code",
   "execution_count": 34,
   "id": "1bb069fe",
   "metadata": {},
   "outputs": [
    {
     "data": {
      "text/html": [
       "<div>\n",
       "<style scoped>\n",
       "    .dataframe tbody tr th:only-of-type {\n",
       "        vertical-align: middle;\n",
       "    }\n",
       "\n",
       "    .dataframe tbody tr th {\n",
       "        vertical-align: top;\n",
       "    }\n",
       "\n",
       "    .dataframe thead th {\n",
       "        text-align: right;\n",
       "    }\n",
       "</style>\n",
       "<table border=\"1\" class=\"dataframe\">\n",
       "  <thead>\n",
       "    <tr style=\"text-align: right;\">\n",
       "      <th></th>\n",
       "      <th>id</th>\n",
       "      <th>latitude</th>\n",
       "      <th>longitude</th>\n",
       "      <th>population</th>\n",
       "    </tr>\n",
       "  </thead>\n",
       "  <tbody>\n",
       "    <tr>\n",
       "      <th>count</th>\n",
       "      <td>8040.000000</td>\n",
       "      <td>8040.000000</td>\n",
       "      <td>8040.000000</td>\n",
       "      <td>3.690000e+02</td>\n",
       "    </tr>\n",
       "    <tr>\n",
       "      <th>mean</th>\n",
       "      <td>6328.786816</td>\n",
       "      <td>47.223456</td>\n",
       "      <td>6.299331</td>\n",
       "      <td>3.360184e+05</td>\n",
       "    </tr>\n",
       "    <tr>\n",
       "      <th>std</th>\n",
       "      <td>3504.698537</td>\n",
       "      <td>3.700934</td>\n",
       "      <td>7.747070</td>\n",
       "      <td>5.840409e+05</td>\n",
       "    </tr>\n",
       "    <tr>\n",
       "      <th>min</th>\n",
       "      <td>1.000000</td>\n",
       "      <td>1.370676</td>\n",
       "      <td>-101.397388</td>\n",
       "      <td>1.000460e+05</td>\n",
       "    </tr>\n",
       "    <tr>\n",
       "      <th>25%</th>\n",
       "      <td>2501.500000</td>\n",
       "      <td>44.662402</td>\n",
       "      <td>1.214282</td>\n",
       "      <td>1.253750e+05</td>\n",
       "    </tr>\n",
       "    <tr>\n",
       "      <th>50%</th>\n",
       "      <td>7003.500000</td>\n",
       "      <td>47.304750</td>\n",
       "      <td>4.887856</td>\n",
       "      <td>1.803020e+05</td>\n",
       "    </tr>\n",
       "    <tr>\n",
       "      <th>75%</th>\n",
       "      <td>9014.250000</td>\n",
       "      <td>49.611998</td>\n",
       "      <td>10.311597</td>\n",
       "      <td>3.098690e+05</td>\n",
       "    </tr>\n",
       "    <tr>\n",
       "      <th>max</th>\n",
       "      <td>12192.000000</td>\n",
       "      <td>64.145981</td>\n",
       "      <td>48.731938</td>\n",
       "      <td>8.416535e+06</td>\n",
       "    </tr>\n",
       "  </tbody>\n",
       "</table>\n",
       "</div>"
      ],
      "text/plain": [
       "                 id     latitude    longitude    population\n",
       "count   8040.000000  8040.000000  8040.000000  3.690000e+02\n",
       "mean    6328.786816    47.223456     6.299331  3.360184e+05\n",
       "std     3504.698537     3.700934     7.747070  5.840409e+05\n",
       "min        1.000000     1.370676  -101.397388  1.000460e+05\n",
       "25%     2501.500000    44.662402     1.214282  1.253750e+05\n",
       "50%     7003.500000    47.304750     4.887856  1.803020e+05\n",
       "75%     9014.250000    49.611998    10.311597  3.098690e+05\n",
       "max    12192.000000    64.145981    48.731938  8.416535e+06"
      ]
     },
     "execution_count": 34,
     "metadata": {},
     "output_type": "execute_result"
    }
   ],
   "source": [
    "cities.describe()"
   ]
  },
  {
   "cell_type": "markdown",
   "id": "a858cd8b",
   "metadata": {},
   "source": [
    "On peut convertir id en int16 pour les raisons identiques à celles évoquées précédemment. Enfin, la population étant un entier, il aurait été plus judicieux de le convertir en int64, mais les quelques valeurs non renseignées (NaN) bloque ce changement (qui par ailleurs, n'aurait eu aucune incidence sur la mémoire)."
   ]
  },
  {
   "cell_type": "code",
   "execution_count": 35,
   "id": "2b9c5e6c",
   "metadata": {},
   "outputs": [
    {
     "name": "stdout",
     "output_type": "stream",
     "text": [
      "<class 'pandas.core.frame.DataFrame'>\n",
      "RangeIndex: 74168 entries, 0 to 74167\n",
      "Data columns (total 12 columns):\n",
      " #   Column           Non-Null Count  Dtype  \n",
      "---  ------           --------------  -----  \n",
      " 0   id               74168 non-null  int64  \n",
      " 1   company          74168 non-null  int64  \n",
      " 2   o_station        32727 non-null  float64\n",
      " 3   d_station        32727 non-null  float64\n",
      " 4   departure_ts     74168 non-null  object \n",
      " 5   arrival_ts       74168 non-null  object \n",
      " 6   price_in_cents   74168 non-null  int64  \n",
      " 7   search_ts        74168 non-null  object \n",
      " 8   middle_stations  32727 non-null  object \n",
      " 9   other_companies  32727 non-null  object \n",
      " 10  o_city           74168 non-null  int64  \n",
      " 11  d_city           74168 non-null  int64  \n",
      "dtypes: float64(2), int64(5), object(5)\n",
      "memory usage: 6.8+ MB\n"
     ]
    }
   ],
   "source": [
    "ticket = pd.read_csv(\"C:/Users/flaph/Documents/Test1/ticket_data.csv\") # Car il a été modifié dans la première partie\n",
    "ticket.info()"
   ]
  },
  {
   "cell_type": "code",
   "execution_count": 36,
   "id": "f5083a9b",
   "metadata": {},
   "outputs": [
    {
     "data": {
      "text/html": [
       "<div>\n",
       "<style scoped>\n",
       "    .dataframe tbody tr th:only-of-type {\n",
       "        vertical-align: middle;\n",
       "    }\n",
       "\n",
       "    .dataframe tbody tr th {\n",
       "        vertical-align: top;\n",
       "    }\n",
       "\n",
       "    .dataframe thead th {\n",
       "        text-align: right;\n",
       "    }\n",
       "</style>\n",
       "<table border=\"1\" class=\"dataframe\">\n",
       "  <thead>\n",
       "    <tr style=\"text-align: right;\">\n",
       "      <th></th>\n",
       "      <th>id</th>\n",
       "      <th>company</th>\n",
       "      <th>o_station</th>\n",
       "      <th>d_station</th>\n",
       "      <th>price_in_cents</th>\n",
       "      <th>o_city</th>\n",
       "      <th>d_city</th>\n",
       "    </tr>\n",
       "  </thead>\n",
       "  <tbody>\n",
       "    <tr>\n",
       "      <th>count</th>\n",
       "      <td>7.416800e+04</td>\n",
       "      <td>74168.000000</td>\n",
       "      <td>32727.000000</td>\n",
       "      <td>32727.000000</td>\n",
       "      <td>74168.000000</td>\n",
       "      <td>74168.000000</td>\n",
       "      <td>74168.000000</td>\n",
       "    </tr>\n",
       "    <tr>\n",
       "      <th>mean</th>\n",
       "      <td>6.832108e+06</td>\n",
       "      <td>7109.565527</td>\n",
       "      <td>2907.132673</td>\n",
       "      <td>2347.858129</td>\n",
       "      <td>4382.711061</td>\n",
       "      <td>849.186105</td>\n",
       "      <td>883.776265</td>\n",
       "    </tr>\n",
       "    <tr>\n",
       "      <th>std</th>\n",
       "      <td>2.141060e+04</td>\n",
       "      <td>3005.380792</td>\n",
       "      <td>3347.629180</td>\n",
       "      <td>3090.798007</td>\n",
       "      <td>3739.325367</td>\n",
       "      <td>1485.791782</td>\n",
       "      <td>1654.698575</td>\n",
       "    </tr>\n",
       "    <tr>\n",
       "      <th>min</th>\n",
       "      <td>6.795025e+06</td>\n",
       "      <td>9.000000</td>\n",
       "      <td>3.000000</td>\n",
       "      <td>3.000000</td>\n",
       "      <td>300.000000</td>\n",
       "      <td>5.000000</td>\n",
       "      <td>1.000000</td>\n",
       "    </tr>\n",
       "    <tr>\n",
       "      <th>25%</th>\n",
       "      <td>6.813567e+06</td>\n",
       "      <td>8376.000000</td>\n",
       "      <td>400.000000</td>\n",
       "      <td>396.000000</td>\n",
       "      <td>1900.000000</td>\n",
       "      <td>485.000000</td>\n",
       "      <td>453.000000</td>\n",
       "    </tr>\n",
       "    <tr>\n",
       "      <th>50%</th>\n",
       "      <td>6.832108e+06</td>\n",
       "      <td>8385.000000</td>\n",
       "      <td>701.000000</td>\n",
       "      <td>575.000000</td>\n",
       "      <td>3350.000000</td>\n",
       "      <td>628.000000</td>\n",
       "      <td>562.000000</td>\n",
       "    </tr>\n",
       "    <tr>\n",
       "      <th>75%</th>\n",
       "      <td>6.850650e+06</td>\n",
       "      <td>8385.000000</td>\n",
       "      <td>6246.000000</td>\n",
       "      <td>4538.000000</td>\n",
       "      <td>5250.000000</td>\n",
       "      <td>628.000000</td>\n",
       "      <td>628.000000</td>\n",
       "    </tr>\n",
       "    <tr>\n",
       "      <th>max</th>\n",
       "      <td>6.869192e+06</td>\n",
       "      <td>8387.000000</td>\n",
       "      <td>11017.000000</td>\n",
       "      <td>11017.000000</td>\n",
       "      <td>38550.000000</td>\n",
       "      <td>12190.000000</td>\n",
       "      <td>12190.000000</td>\n",
       "    </tr>\n",
       "  </tbody>\n",
       "</table>\n",
       "</div>"
      ],
      "text/plain": [
       "                 id       company     o_station     d_station  price_in_cents  \\\n",
       "count  7.416800e+04  74168.000000  32727.000000  32727.000000    74168.000000   \n",
       "mean   6.832108e+06   7109.565527   2907.132673   2347.858129     4382.711061   \n",
       "std    2.141060e+04   3005.380792   3347.629180   3090.798007     3739.325367   \n",
       "min    6.795025e+06      9.000000      3.000000      3.000000      300.000000   \n",
       "25%    6.813567e+06   8376.000000    400.000000    396.000000     1900.000000   \n",
       "50%    6.832108e+06   8385.000000    701.000000    575.000000     3350.000000   \n",
       "75%    6.850650e+06   8385.000000   6246.000000   4538.000000     5250.000000   \n",
       "max    6.869192e+06   8387.000000  11017.000000  11017.000000    38550.000000   \n",
       "\n",
       "             o_city        d_city  \n",
       "count  74168.000000  74168.000000  \n",
       "mean     849.186105    883.776265  \n",
       "std     1485.791782   1654.698575  \n",
       "min        5.000000      1.000000  \n",
       "25%      485.000000    453.000000  \n",
       "50%      628.000000    562.000000  \n",
       "75%      628.000000    628.000000  \n",
       "max    12190.000000  12190.000000  "
      ]
     },
     "execution_count": 36,
     "metadata": {},
     "output_type": "execute_result"
    }
   ],
   "source": [
    "ticket.describe()"
   ]
  },
  {
   "cell_type": "markdown",
   "id": "ef5d737f",
   "metadata": {},
   "source": [
    "Nous avons eu ici le souci des timestamps qu'il a fallu convertir en entier pour pouvoir les utiliser dans les calculs ou pour réaliser le Machine Learning. Il est vrai que le format actuel est largement plus compréhensible par n'importe qui, mais ce n'est pas le format le plus adapté dès qu'on souhaite exploiter ces données.\n",
    "\n",
    "Par ailleurs, nous pourrions convertir company, o_station, d_station, price_in_cents, o_city et d_city en int16, car ils sont tous inférieurs à 65535 et sont des entiers, afin de gagner de la place mémoire. De la même façon que dans cities, o_station et d_station ne pourront pas être convertis car ils possèdent quelques valeurs non renseignées (NaN).\n",
    "\n",
    "D'après les données actuelles, la place mémoire globale des 4 DataFrames est de : 7.54 MB environ.\n",
    "\n",
    "Réalisons les modifications évoquées et voyons ce que cela peut apporter :"
   ]
  },
  {
   "cell_type": "code",
   "execution_count": 37,
   "id": "d11f2ee5",
   "metadata": {},
   "outputs": [
    {
     "data": {
      "text/plain": [
       "id                   int64\n",
       "company              int16\n",
       "o_station          float64\n",
       "d_station          float64\n",
       "departure_ts        object\n",
       "arrival_ts          object\n",
       "price_in_cents       int16\n",
       "search_ts           object\n",
       "middle_stations     object\n",
       "other_companies     object\n",
       "o_city               int16\n",
       "d_city               int16\n",
       "dtype: object"
      ]
     },
     "execution_count": 37,
     "metadata": {},
     "output_type": "execute_result"
    }
   ],
   "source": [
    "stations.astype({'id': 'int16'}).dtypes\n",
    "providers.astype({'id': 'int8', 'company_id': 'int16'}).dtypes\n",
    "cities.astype({'id': 'int16'}).dtypes\n",
    "ticket.astype({'company': 'int16', 'price_in_cents': 'int16', 'o_city': 'int16', 'd_city': 'int16'}).dtypes"
   ]
  },
  {
   "cell_type": "code",
   "execution_count": 38,
   "id": "5caf38b6",
   "metadata": {},
   "outputs": [
    {
     "name": "stdout",
     "output_type": "stream",
     "text": [
      "<class 'pandas.core.frame.DataFrame'>\n",
      "RangeIndex: 11035 entries, 0 to 11034\n",
      "Data columns (total 4 columns):\n",
      " #   Column       Non-Null Count  Dtype  \n",
      "---  ------       --------------  -----  \n",
      " 0   id           11035 non-null  int64  \n",
      " 1   unique_name  11035 non-null  object \n",
      " 2   latitude     11035 non-null  float64\n",
      " 3   longitude    11035 non-null  float64\n",
      "dtypes: float64(2), int64(1), object(1)\n",
      "memory usage: 345.0+ KB\n"
     ]
    }
   ],
   "source": [
    "stations.info()"
   ]
  },
  {
   "cell_type": "code",
   "execution_count": 39,
   "id": "5a8b2f82",
   "metadata": {},
   "outputs": [
    {
     "name": "stdout",
     "output_type": "stream",
     "text": [
      "<class 'pandas.core.frame.DataFrame'>\n",
      "RangeIndex: 227 entries, 0 to 226\n",
      "Data columns (total 10 columns):\n",
      " #   Column                Non-Null Count  Dtype \n",
      "---  ------                --------------  ----- \n",
      " 0   id                    227 non-null    int64 \n",
      " 1   company_id            227 non-null    int64 \n",
      " 2   provider_id           213 non-null    object\n",
      " 3   name                  227 non-null    object\n",
      " 4   fullname              227 non-null    object\n",
      " 5   has_wifi              224 non-null    object\n",
      " 6   has_plug              224 non-null    object\n",
      " 7   has_adjustable_seats  224 non-null    object\n",
      " 8   has_bicycle           224 non-null    object\n",
      " 9   transport_type        227 non-null    object\n",
      "dtypes: int64(2), object(8)\n",
      "memory usage: 17.9+ KB\n"
     ]
    }
   ],
   "source": [
    "providers.info()"
   ]
  },
  {
   "cell_type": "code",
   "execution_count": 40,
   "id": "5988547d",
   "metadata": {},
   "outputs": [
    {
     "name": "stdout",
     "output_type": "stream",
     "text": [
      "<class 'pandas.core.frame.DataFrame'>\n",
      "RangeIndex: 8040 entries, 0 to 8039\n",
      "Data columns (total 6 columns):\n",
      " #   Column       Non-Null Count  Dtype  \n",
      "---  ------       --------------  -----  \n",
      " 0   id           8040 non-null   int64  \n",
      " 1   local_name   8040 non-null   object \n",
      " 2   unique_name  8039 non-null   object \n",
      " 3   latitude     8040 non-null   float64\n",
      " 4   longitude    8040 non-null   float64\n",
      " 5   population   369 non-null    float64\n",
      "dtypes: float64(3), int64(1), object(2)\n",
      "memory usage: 377.0+ KB\n"
     ]
    }
   ],
   "source": [
    "cities.info()"
   ]
  },
  {
   "cell_type": "code",
   "execution_count": 41,
   "id": "20d5a0cf",
   "metadata": {},
   "outputs": [
    {
     "name": "stdout",
     "output_type": "stream",
     "text": [
      "<class 'pandas.core.frame.DataFrame'>\n",
      "RangeIndex: 74168 entries, 0 to 74167\n",
      "Data columns (total 12 columns):\n",
      " #   Column           Non-Null Count  Dtype  \n",
      "---  ------           --------------  -----  \n",
      " 0   id               74168 non-null  int64  \n",
      " 1   company          74168 non-null  int64  \n",
      " 2   o_station        32727 non-null  float64\n",
      " 3   d_station        32727 non-null  float64\n",
      " 4   departure_ts     74168 non-null  object \n",
      " 5   arrival_ts       74168 non-null  object \n",
      " 6   price_in_cents   74168 non-null  int64  \n",
      " 7   search_ts        74168 non-null  object \n",
      " 8   middle_stations  32727 non-null  object \n",
      " 9   other_companies  32727 non-null  object \n",
      " 10  o_city           74168 non-null  int64  \n",
      " 11  d_city           74168 non-null  int64  \n",
      "dtypes: float64(2), int64(5), object(5)\n",
      "memory usage: 6.8+ MB\n"
     ]
    }
   ],
   "source": [
    "ticket.info()"
   ]
  },
  {
   "cell_type": "markdown",
   "id": "483ef6aa",
   "metadata": {},
   "source": [
    "L'utilisation mémoire n'a pas changé, ce qui indique la faible incidence des types de variables sur nos DataFrames."
   ]
  }
 ],
 "metadata": {
  "kernelspec": {
   "display_name": "Python 3 (ipykernel)",
   "language": "python",
   "name": "python3"
  },
  "language_info": {
   "codemirror_mode": {
    "name": "ipython",
    "version": 3
   },
   "file_extension": ".py",
   "mimetype": "text/x-python",
   "name": "python",
   "nbconvert_exporter": "python",
   "pygments_lexer": "ipython3",
   "version": "3.10.4"
  }
 },
 "nbformat": 4,
 "nbformat_minor": 5
}
